{
  "nbformat": 4,
  "nbformat_minor": 0,
  "metadata": {
    "colab": {
      "provenance": []
    },
    "kernelspec": {
      "name": "python3",
      "display_name": "Python 3"
    },
    "language_info": {
      "name": "python"
    }
  },
  "cells": [
    {
      "cell_type": "markdown",
      "source": [
        "**Data Types and Structures Questions**"
      ],
      "metadata": {
        "id": "8_MGAU-hPSdt"
      }
    },
    {
      "cell_type": "markdown",
      "source": [
        "1.What are data structures, and why are they important?\n",
        "- Data structures are specialized formats for organizing, storing, and managing data in a computer so that it can be accessed and modified efficiently.\n",
        "\n",
        "  - Common Types of Data Structures:\n",
        "    - Arrays – Fixed-size collections of elements, all of the same type.\n",
        "\n",
        "   - Linked Lists – Sequential elements where each element points to the next.\n",
        "\n",
        "   - Stacks – Last-in, first-out (LIFO) structure.\n",
        "\n",
        "   - Queues – First-in, first-out (FIFO) structure.\n",
        "\n",
        "   - Trees – Hierarchical structures like binary trees or AVL trees.\n",
        "\n",
        "   - Graphs – Nodes connected by edges, useful in networking and pathfinding.\n",
        "\n",
        "   - Hash Tables – Key-value pairs for fast lookup.\n",
        "\n",
        " - Why Data Structures Are Important:\n",
        "     - Efficiency: The right data structure can drastically improve the speed and efficiency of algorithms.\n",
        "\n",
        "    - Data Organization: Helps maintain organized and logical representation of data, especially in large systems.\n",
        "\n",
        "    - Resource Management: Efficient memory use and faster access/modification of data.\n",
        "\n",
        "    - Code Maintainability: Cleaner code that's easier to understand, debug, and scale.\n",
        "\n",
        "    - Problem Solving: Core to algorithm development and technical interviews.\n"
      ],
      "metadata": {
        "id": "2512Aj7NASH7"
      }
    },
    {
      "cell_type": "markdown",
      "source": [
        "2.Explain the difference between mutable and immutable data types with examples.\n",
        "- The key difference between mutable and immutable data types lies in whether or not their content (values) can be changed after they are created.\n",
        "\n",
        "- Mutable Data Types\n",
        "Definition: These can be changed after creation — you can modify, add, or remove elements without changing the object’s identity.\n",
        "\n",
        "  Examples (in Python):\n",
        "  - List\n",
        "  - Dictionary\n",
        "  - Set\n",
        "\n",
        "- Immutable Data Types\n",
        "Definition: These cannot be changed after creation. Any operation that alters the data results in a new object.\n",
        "\n",
        "  Examples:\n",
        "\n",
        "  - int\n",
        "  - float\n",
        "  - str (string)\n",
        "  - tuple\n",
        "  - frozenset\n",
        "  "
      ],
      "metadata": {
        "id": "gOBGmxL3Bx5P"
      }
    },
    {
      "cell_type": "markdown",
      "source": [
        "3.What are the main differences between lists and tuples in Python?\n",
        "- Lists and tuples are both fundamental sequence types in Python, but they have some key distinctions that make them suitable for different situations. Think of it this way:\n",
        "\n",
        "- Lists are like a dynamic shopping list:\n",
        "\n",
        "- Mutable: You can change them after they're created. You can add, remove, or modify items.\n",
        "Defined with square brackets: my_list = [1, 2, \"hello\"]\n",
        "Generally used for collections of similar items where you might need to modify the order or content.\n",
        "Tuples are like a fixed record or coordinate:\n",
        "\n",
        "- Immutable: Once you create a tuple, you cannot change its contents.\n",
        "Defined with parentheses (though the parentheses are often optional): my_tuple = (1, 2, \"hello\") or my_other_tuple = 1, 2, \"hello\"\n",
        "Often used for collections of dissimilar items where the order and content are important and should not be changed. Think of representing a point in 2D space as (x, y).\n"
      ],
      "metadata": {
        "id": "uI2SnHa4CvHI"
      }
    },
    {
      "cell_type": "markdown",
      "source": [
        "4.Describe how dictionaries store data.\n",
        "- In Python, dictionaries store data as key-value pairs, where each key maps to a value. The dictionary is an unordered, mutable, and indexed data structure. Under the hood, Python uses a hash table to implement dictionaries, which allows for fast lookups, inserts, and deletes.\n",
        "- How Dictionaries Work Internally\n",
        "  - Hashing the Key:\n",
        "    - When a key is added, Python computes a hash value using the hash() function.\n",
        "     - Example: hash(\"name\") might produce a unique integer.\n",
        "\n",
        "  - Indexing:\n",
        "    - This hash value determines the index in an internal array where the value will be stored.\n",
        "    - This allows constant time (O(1)) access for most operations.\n",
        "\n",
        "  - Handling Collisions:\n",
        "    - If two keys hash to the same index (a collision), Python uses techniques like open addressing to find another slot."
      ],
      "metadata": {
        "id": "4BLGHlBrDnY6"
      }
    },
    {
      "cell_type": "markdown",
      "source": [
        "5.Why might you use a set instead of a list in Python?\n",
        "- Uniqueness of Elements\n",
        "  - Sets automatically remove duplicates, while lists allow them.\n",
        "- Faster Membership Testing\n",
        "  - Sets use hash tables, so checking if an element exists is much faster (O(1) on average) than in a list (O(n)).\n",
        "- Efficient Set Operations\n",
        "  - Sets support powerful operations like union, intersection, difference, and symmetric difference.\n"
      ],
      "metadata": {
        "id": "3gDb0-ieEr3U"
      }
    },
    {
      "cell_type": "markdown",
      "source": [
        "6.What is a string in Python, and how is it different from a list?\n",
        "- In Python, a string is a sequence of characters. These characters can be letters, numbers, symbols, or whitespace. Strings are used to represent text data.\n",
        "- Immutable: Just like tuples, strings in Python are immutable. Once a string is created, you cannot change its individual characters directly. If you need to modify a string, you essentially create a new string with the desired changes.\n",
        "- Ordered: Strings are ordered sequences, meaning the characters within a string have a specific order, and this order is maintained. You can access individual characters in a string using indexing (starting from 0).\n",
        "- Iterable: You can iterate over the characters in a string using loops.\n",
        "- Represented by quotes: Strings are typically enclosed in single quotes ('...'), double quotes (\"...\"), or triple quotes ('''...''' or \"\"\"...\"\"\"). Triple quotes are often used for multiline strings or docstrings.\n",
        "\n",
        "While both strings and lists are ordered and iterable sequences in Python, their fundamental difference lies in the type of elements they hold and their mutability.\n"
      ],
      "metadata": {
        "id": "cAyqdPSqFrXx"
      }
    },
    {
      "cell_type": "markdown",
      "source": [
        "7.How do tuples ensure data integrity in Python?\n",
        "- Tuples ensure data integrity in Python primarily through their immutability—once a tuple is created, its contents cannot be changed. This characteristic provides several key benefits for maintaining reliable and consistent data.\n",
        " - 1. Immutability Prevents Accidental Changes\n",
        "   - You cannot add, remove, or modify elements in a tuple after it's created.\n",
        "   - This helps protect critical or constant data from being unintentionally altered.\n",
        " - 2. Safe to Use as Dictionary Keys or Set Elements\n",
        "   - Because tuples are immutable and hashable (if they contain only hashable types), they can be used as keys in dictionaries or elements in sets.\n",
        "   - This makes them ideal for representing fixed, compound keys.\n",
        " - 3. Reliable for Data Grouping\n",
        "   - Tuples are often used to group related data (like a row in a database).\n",
        "   - Their immutability ensures that grouped data stays consistent throughout the program.\n",
        " - 4. Thread-Safe\n",
        "   - Tuples are safer to share between threads or functions because their contents can't change midway through processing.\n",
        "\n"
      ],
      "metadata": {
        "id": "MuF3x0-THPn-"
      }
    },
    {
      "cell_type": "markdown",
      "source": [
        "8.What is a hash table, and how does it relate to dictionaries in Python?\n",
        "- A hash table is a data structure that stores key-value pairs and allows for very fast data retrieval, usually in constant time (O(1) on average). In Python, the built-in dictionary (dict) type is implemented using a hash table under the hood.\n",
        "\n",
        "How a Hash Table Works:\n",
        "   - Hash Function:\n",
        "     - Converts the key into a fixed-size integer called a hash.\n",
        "       - Example: hash(\"name\") → 4536278291 (number varies)\n",
        "\n",
        "   - Indexing:\n",
        "     - The hash value is used to determine the index where the key-value pair is stored in an internal array.\n",
        "\n",
        "   - Storing Key-Value Pairs:\n",
        "     - Each slot in the array stores a key and its associated value.\n",
        "\n",
        "   - Handling Collisions:\n",
        "     - If two keys hash to the same index, Python uses methods like open addressing or probing to find another slot.\n"
      ],
      "metadata": {
        "id": "8zqNR5xcIPIv"
      }
    },
    {
      "cell_type": "markdown",
      "source": [
        "9.Can lists contain different data types in Python?\n",
        "- Yes, absolutely! Lists in Python are incredibly flexible and can indeed contain elements of different data types within the same list.\n",
        "- This is one of the key features that distinguishes them from some other data structures you might encounter in other programming languages (like arrays in some languages that require all elements to be of the same type).\n"
      ],
      "metadata": {
        "id": "wRMNn-nFJmdL"
      }
    },
    {
      "cell_type": "markdown",
      "source": [
        "10.Explain why strings are immutable in Python.\n",
        "- Strings are immutable in Python because they cannot be changed after they are created. Any operation that modifies a string will instead return a new string, leaving the original unchanged.\n",
        "\n",
        "- Why Are Strings Immutable?\n",
        "  - 1. Efficiency & Memory Optimization\n",
        "    - Python interns some strings (stores only one copy of common strings) for performance.\n",
        "    - Immutability makes it safe to share string objects across the program without unexpected changes.\n",
        "  - 2. Hashing and Dictionary Keys\n",
        "    - Strings are hashable, meaning they can be used as keys in dictionaries or as elements in sets."
      ],
      "metadata": {
        "id": "dkkhFeA-J7p5"
      }
    },
    {
      "cell_type": "markdown",
      "source": [
        "11.What advantages do dictionaries offer over lists for certain tasks?\n",
        "- Dictionaries offer several advantages over lists for certain tasks, particularly when dealing with key-value pairs or needing efficient lookups. Here are the main advantages:\n",
        " - 1. Faster Lookups by Key (Average O(1) Time Complexity).\n",
        " - 2. Efficient Insertions and Deletions (Average O(1))\n",
        " - 3. Uniqueness of Keys\n",
        " - 4. Semantic Meaning (Key-Value Pairs)\n",
        " - 5. Flexible Data Types"
      ],
      "metadata": {
        "id": "59SE9W66KgKU"
      }
    },
    {
      "cell_type": "markdown",
      "source": [
        "12.Describe a scenario where using a tuple would be preferable over a list.\n",
        "- A tuple would be preferable over a list in scenarios where data integrity, immutability, and performance are critical. Here’s a specific example:\n",
        "\n",
        "Scenario: Representing Coordinates in a 2D Space (Immutable Data)\n",
        "Imagine you are working with a 2D graphics application or a geospatial system where you need to represent points in a coordinate system, such as (x, y) coordinates.\n",
        "\n",
        "Why use a tuple?\n",
        "\n",
        "Immutability: The coordinates (x, y) should not change once they are set. If you accidentally modify a coordinate, it could lead to unexpected behavior in calculations or rendering.\n",
        "\n",
        "Performance: Tuples are generally faster and more memory-efficient than lists, so if you're dealing with a large number of coordinates, tuples can provide better performance.\n",
        "\n",
        "Hashable: Tuples can be used as keys in dictionaries or elements in sets, which is not possible with lists. This is helpful if you need to store or track a specific point and ensure uniqueness.\n"
      ],
      "metadata": {
        "id": "T0pGJ_KsK-Zw"
      }
    },
    {
      "cell_type": "markdown",
      "source": [
        "13.How do sets handle duplicate values in Python?\n",
        "- In Python, sets automatically handle duplicate values by removing duplicates when the set is created or updated. Since sets are unordered collections of unique elements, they ensure that no element appears more than once.\n",
        "- If you try to add a duplicate element to a set, Python will simply ignore it without raising any error.\n",
        "How It Works Internally:\n",
        "Hashing: When an element is added to a set, Python computes a hash value for that element. If the hash value already exists in the set, the new element is not added.\n",
        "\n",
        "This ensures that each element in a set is unique, based on its hash value.\n",
        "\n",
        "- Summary:\n",
        "Sets automatically handle duplicates by storing only unique values.\n",
        "\n",
        "- If you add a duplicate element, Python ignores it, keeping only one occurrence of each value. This is one of the main reasons to use sets when you need a collection with no duplicates."
      ],
      "metadata": {
        "id": "_A5X-vhrLO5J"
      }
    },
    {
      "cell_type": "markdown",
      "source": [
        "14.How does the “in” keyword work differently for lists and dictionaries?\n",
        "- The in keyword behaves differently for lists and dictionaries in Python because it checks for membership in different ways depending on the data structure.\n",
        "  - 1. Using in with Lists:\n",
        "When you use in with a list, it checks if the value (element) is present in the list.\n",
        "    - It performs a sequential search and checks each element in the list one by one.\n",
        "  - 2. Using in with Dictionaries:\n",
        "When you use in with a dictionary, it checks for the presence of a key in the dictionary, not the value.\n",
        "    - It checks whether the specified key exists in the dictionary's set of keys."
      ],
      "metadata": {
        "id": "K_cpwc05Lsy1"
      }
    },
    {
      "cell_type": "markdown",
      "source": [
        "15.Can you modify the elements of a tuple? Explain why or why not.\n",
        "- No, you cannot modify the elements of a tuple in Python once it is created. This is because tuples are immutable.\n",
        "\n",
        "- Why are tuples immutable?\n",
        "  - Immutability: The elements of a tuple are fixed after creation. Once a tuple is defined, its contents cannot be changed, added, or removed. This is a defining characteristic of tuples in Python.\n",
        "  - Data Integrity: Immutability helps ensure that the data within a tuple is not accidentally modified, making it ideal for storing fixed collections of items where data integrity is important.\n",
        "  - Performance: Since tuples are immutable, Python can optimize memory management and performance when working with them. This allows tuples to be stored in a way that is more memory efficient than lists.\n",
        "  - Hashable: Tuples are hashable, meaning they can be used as keys in dictionaries or elements in sets. The hash value of an object must remain constant throughout its lifetime, which is why mutable objects (like lists) cannot be used as dictionary keys or set elements."
      ],
      "metadata": {
        "id": "v10nEnEmMPRi"
      }
    },
    {
      "cell_type": "markdown",
      "source": [
        "16.What is a nested dictionary, and give an example of its use case?\n",
        "- A nested dictionary is a dictionary that contains another dictionary (or multiple dictionaries) as its value. This allows you to represent complex data structures with multiple layers of key-value pairs. Essentially, a nested dictionary is a dictionary inside a dictionary.\n",
        "\n",
        "- Why Use a Nested Dictionary?\n",
        "  - Nested dictionaries are useful when you need to represent hierarchical or multi-level data, such as information about students, products, or employees, where each key has more detailed information stored in another dictionary.\n",
        "\n",
        "- Example of a Nested Dictionary:\n",
        "  - Let’s consider a school system where we need to store information about multiple students, and each student has details like name, age, and grades."
      ],
      "metadata": {
        "id": "M8y9m5q0Muao"
      }
    },
    {
      "cell_type": "markdown",
      "source": [
        "17.Describe the time complexity of accessing elements in a dictionary.\n",
        "- The time complexity of accessing elements in a dictionary in Python is O(1) on average, meaning it takes constant time to retrieve a value from a dictionary, regardless of the size of the dictionary. This is because dictionaries in Python are implemented using hash tables, which allow for efficient key-based access.\n",
        "\n",
        "Why is Dictionary Access O(1) on Average?\n",
        "- Hashing:\n",
        "  - When you use a key to access a value in a dictionary, Python computes a hash of the key.\n",
        "  - This hash determines the index where the value is stored in the dictionary's underlying array.\n",
        "  - With this hash, Python can directly access the value at that location, making the lookup process very fast (constant time).\n",
        "\n",
        "- No Need to Iterate:\n",
        "  - Since dictionaries are unordered collections, you don't have to iterate through all the keys to find the one you're looking for. The hash table allows Python to skip directly to the right location for the key."
      ],
      "metadata": {
        "id": "8qhV5jdaNHGg"
      }
    },
    {
      "cell_type": "markdown",
      "source": [
        "18.In what situations are lists preferred over dictionaries?\n",
        "- While dictionaries are highly efficient for key-value pair lookups, lists are preferred in situations where the order of elements, indexed access, or iteration is more important. Here are the situations where lists are generally preferred over dictionaries:\n",
        "  - 1. When the Order of Elements Matters\n",
        "    - Lists maintain the order of elements. This makes them ideal when you need to preserve the sequence of elements, such as when the data represents a timeline, queue, or ordered collection.\n",
        "  - 2. When You Need to Access Elements by Index\n",
        "    - Lists allow you to access elements by index, which is especially useful when the position of the item is meaningful or when you need to iterate over elements in a specific order.\n",
        "  - 3. When You Need to Maintain a Collection of Similar Items\n",
        "    - Lists are ideal when you want to store a collection of similar types of items where the relationship between them is sequential or ordered, such as a list of numbers, names, or a sequence of events.\n",
        "  - 4. When You Need to Use Data as a Stack or Queue\n",
        "    - Lists are well-suited for implementing data structures like stacks (Last In, First Out) or queues (First In, First Out) using operations like append(), pop(), and insert()."
      ],
      "metadata": {
        "id": "EfouEs0INiLa"
      }
    },
    {
      "cell_type": "markdown",
      "source": [
        "19.Why are dictionaries considered unordered, and how does that affect data retrieval?\n",
        "- Dictionaries in Python are historically considered unordered because they were originally implemented as hash tables without any guarantee that the order of items (key-value pairs) would be preserved. This meant:\n",
        "- When you added items to a dictionary, the order in which they were stored could differ from the order in which you inserted them.\n",
        "- If you iterated over the dictionary (e.g., using a for loop), the order of the keys could appear random or inconsistent, especially across different runs.\n",
        "\n",
        "How Does This Affect Data Retrieval?\n",
        "1. Access by Key is Unaffected.\n",
        "2. Access by Index is Not Possible.\n",
        "3. Iterating Over a Dictionary."
      ],
      "metadata": {
        "id": "H25brkVOOPHM"
      }
    },
    {
      "cell_type": "markdown",
      "source": [
        "20.Explain the difference between a list and a dictionary in terms of data retrieval.\n",
        "- The main difference between a list and a dictionary in Python lies in how you retrieve data from them:\n",
        "\n",
        " - List: Index-Based Retrieval\n",
        "   - Access by position (index).\n",
        "   - Elements are stored in a specific order.\n",
        "   - You retrieve items using integer indices starting from 0.\n",
        " - Dictionary: Key-Based Retrieval\n",
        "   - Access by key (not position).\n",
        "   - Elements are stored as key-value pairs.\n",
        "   - You retrieve items using a unique key, not an index."
      ],
      "metadata": {
        "id": "27hK8t2ZOt-r"
      }
    },
    {
      "cell_type": "markdown",
      "source": [
        "**Practical Questions**"
      ],
      "metadata": {
        "id": "KE6pugv2Pl60"
      }
    },
    {
      "cell_type": "markdown",
      "source": [
        "1.Write a code to create a string with your name and print it."
      ],
      "metadata": {
        "id": "8ggZk5bTPrME"
      }
    },
    {
      "cell_type": "code",
      "source": [
        "# Create a string with your name\n",
        "my_name = \"Shivam\"\n",
        "\n",
        "# Print the string\n",
        "print(\"My name is:\", my_name)\n"
      ],
      "metadata": {
        "colab": {
          "base_uri": "https://localhost:8080/"
        },
        "id": "fHS7gXxkP2c-",
        "outputId": "044521d3-3137-4a5f-e04f-c67131aedb85"
      },
      "execution_count": 1,
      "outputs": [
        {
          "output_type": "stream",
          "name": "stdout",
          "text": [
            "My name is: Shivam\n"
          ]
        }
      ]
    },
    {
      "cell_type": "markdown",
      "source": [
        "2.Write a code to find the length of the string \"Hello World\"."
      ],
      "metadata": {
        "id": "3vtv_6rWP7Hy"
      }
    },
    {
      "cell_type": "code",
      "source": [
        "# Define the string\n",
        "text = \"Hello World\"\n",
        "\n",
        "# Find and print the length of the string\n",
        "length = len(text)\n",
        "print(\"Length of the string:\", length)\n"
      ],
      "metadata": {
        "colab": {
          "base_uri": "https://localhost:8080/"
        },
        "id": "tfoxjbNQQGzx",
        "outputId": "1b7d104e-18bd-4f00-854f-cfe4341ea51c"
      },
      "execution_count": 2,
      "outputs": [
        {
          "output_type": "stream",
          "name": "stdout",
          "text": [
            "Length of the string: 11\n"
          ]
        }
      ]
    },
    {
      "cell_type": "markdown",
      "source": [
        "3.Write a code to slice the first 3 characters from the string \"Python Programming\"."
      ],
      "metadata": {
        "id": "ijohEKnOQJNi"
      }
    },
    {
      "cell_type": "code",
      "source": [
        "# Define the string\n",
        "text = \"Python Programming\"\n",
        "\n",
        "# Slice the first 3 characters\n",
        "sliced_text = text[:3]\n",
        "\n",
        "# Print the result\n",
        "print(\"First 3 characters:\", sliced_text)\n"
      ],
      "metadata": {
        "colab": {
          "base_uri": "https://localhost:8080/"
        },
        "id": "vDcFEzwmQRUS",
        "outputId": "3c3c4c29-12b9-45f4-f7b8-fad511802b09"
      },
      "execution_count": 3,
      "outputs": [
        {
          "output_type": "stream",
          "name": "stdout",
          "text": [
            "First 3 characters: Pyt\n"
          ]
        }
      ]
    },
    {
      "cell_type": "markdown",
      "source": [
        "4.Write a code to convert the string \"hello\" to uppercase."
      ],
      "metadata": {
        "id": "LNyQMzLbQTSa"
      }
    },
    {
      "cell_type": "code",
      "source": [
        "# Define the string\n",
        "text = \"hello\"\n",
        "\n",
        "# Convert to uppercase\n",
        "uppercase_text = text.upper()\n",
        "\n",
        "# Print the result\n",
        "print(\"Uppercase:\", uppercase_text)\n"
      ],
      "metadata": {
        "colab": {
          "base_uri": "https://localhost:8080/"
        },
        "id": "qSNSZukVQWnK",
        "outputId": "b166461b-2481-4933-af67-487b7704f7d6"
      },
      "execution_count": 4,
      "outputs": [
        {
          "output_type": "stream",
          "name": "stdout",
          "text": [
            "Uppercase: HELLO\n"
          ]
        }
      ]
    },
    {
      "cell_type": "markdown",
      "source": [
        "5.Write a code to replace the word \"apple\" with \"orange\" in the string \"I like apple\"."
      ],
      "metadata": {
        "id": "N0HnE74JQe4f"
      }
    },
    {
      "cell_type": "code",
      "source": [
        "# Define the original string\n",
        "text = \"I like apple\"\n",
        "\n",
        "# Replace 'apple' with 'orange'\n",
        "new_text = text.replace(\"apple\", \"orange\")\n",
        "\n",
        "# Print the result\n",
        "print(new_text)\n"
      ],
      "metadata": {
        "colab": {
          "base_uri": "https://localhost:8080/"
        },
        "id": "ewtn1eBIQikK",
        "outputId": "62b8fc73-6c4a-486c-9b95-d1ab5238ae62"
      },
      "execution_count": 5,
      "outputs": [
        {
          "output_type": "stream",
          "name": "stdout",
          "text": [
            "I like orange\n"
          ]
        }
      ]
    },
    {
      "cell_type": "markdown",
      "source": [
        "6.Write a code to create a list with numbers 1 to 5 and print it."
      ],
      "metadata": {
        "id": "hSPPNG_SQsTe"
      }
    },
    {
      "cell_type": "code",
      "source": [
        "# Create a list with numbers 1 to 5\n",
        "numbers = [1, 2, 3, 4, 5]\n",
        "\n",
        "# Print the list\n",
        "print(\"List of numbers:\", numbers)\n"
      ],
      "metadata": {
        "colab": {
          "base_uri": "https://localhost:8080/"
        },
        "id": "MXpfggfXQvMp",
        "outputId": "f19163af-4fe4-41ab-d487-7dcfc16d8b80"
      },
      "execution_count": 6,
      "outputs": [
        {
          "output_type": "stream",
          "name": "stdout",
          "text": [
            "List of numbers: [1, 2, 3, 4, 5]\n"
          ]
        }
      ]
    },
    {
      "cell_type": "markdown",
      "source": [
        "7.Write a code to append the number 10 to the list [1, 2, 3, 4]."
      ],
      "metadata": {
        "id": "pMfEqj_2Q0Oc"
      }
    },
    {
      "cell_type": "code",
      "source": [
        "# Define the original list\n",
        "numbers = [1, 2, 3, 4]\n",
        "\n",
        "# Append the number 10\n",
        "numbers.append(10)\n",
        "\n",
        "# Print the updated list\n",
        "print(\"Updated list:\", numbers)\n"
      ],
      "metadata": {
        "colab": {
          "base_uri": "https://localhost:8080/"
        },
        "id": "vt-y_eoKQ4Z9",
        "outputId": "2810d63f-8ec4-47b7-82d0-3c52e93e1f0b"
      },
      "execution_count": 7,
      "outputs": [
        {
          "output_type": "stream",
          "name": "stdout",
          "text": [
            "Updated list: [1, 2, 3, 4, 10]\n"
          ]
        }
      ]
    },
    {
      "cell_type": "markdown",
      "source": [
        "8.Write a code to remove the number 3 from the list [1, 2, 3, 4, 5]."
      ],
      "metadata": {
        "id": "MMfPOmVPRAK2"
      }
    },
    {
      "cell_type": "code",
      "source": [
        "# Define the list\n",
        "numbers = [1, 2, 3, 4, 5]\n",
        "\n",
        "# Remove the number 3\n",
        "numbers.remove(3)\n",
        "\n",
        "# Print the updated list\n",
        "print(\"Updated list:\", numbers)\n"
      ],
      "metadata": {
        "colab": {
          "base_uri": "https://localhost:8080/"
        },
        "id": "jmCXleYzRGNQ",
        "outputId": "bbe179cb-efe3-4760-a916-70ff75e586b8"
      },
      "execution_count": 8,
      "outputs": [
        {
          "output_type": "stream",
          "name": "stdout",
          "text": [
            "Updated list: [1, 2, 4, 5]\n"
          ]
        }
      ]
    },
    {
      "cell_type": "markdown",
      "source": [
        "9.Write a code to access the second element in the list ['a', 'b', 'c', 'd']."
      ],
      "metadata": {
        "id": "xiF5oyCSRK3H"
      }
    },
    {
      "cell_type": "code",
      "source": [
        "# Define the list\n",
        "letters = ['a', 'b', 'c', 'd']\n",
        "\n",
        "# Access the second element (index 1)\n",
        "second_element = letters[1]\n",
        "\n",
        "# Print the second element\n",
        "print(\"Second element:\", second_element)\n"
      ],
      "metadata": {
        "colab": {
          "base_uri": "https://localhost:8080/"
        },
        "id": "uRznpdM2ROug",
        "outputId": "eb12e470-8bfa-47d7-da7f-cf6b50597867"
      },
      "execution_count": 9,
      "outputs": [
        {
          "output_type": "stream",
          "name": "stdout",
          "text": [
            "Second element: b\n"
          ]
        }
      ]
    },
    {
      "cell_type": "markdown",
      "source": [
        "10.Write a code to reverse the list [10, 20, 30, 40, 50]."
      ],
      "metadata": {
        "id": "rYlDwRsWRWyZ"
      }
    },
    {
      "cell_type": "code",
      "source": [
        "# Define the list\n",
        "numbers = [10, 20, 30, 40, 50]\n",
        "\n",
        "# Reverse the list\n",
        "reversed_list = numbers[::-1]\n",
        "\n",
        "# Print the reversed list\n",
        "print(\"Reversed list:\", reversed_list)\n"
      ],
      "metadata": {
        "colab": {
          "base_uri": "https://localhost:8080/"
        },
        "id": "Xennw_d0Rbe3",
        "outputId": "28c7c533-c4bd-4a4b-ddd2-34ee2564fe85"
      },
      "execution_count": 10,
      "outputs": [
        {
          "output_type": "stream",
          "name": "stdout",
          "text": [
            "Reversed list: [50, 40, 30, 20, 10]\n"
          ]
        }
      ]
    },
    {
      "cell_type": "markdown",
      "source": [
        "11.Write a code to create a tuple with the elements 100, 200, 300 and print it."
      ],
      "metadata": {
        "id": "zrbT7MirRhqQ"
      }
    },
    {
      "cell_type": "code",
      "source": [
        "# Create a tuple\n",
        "my_tuple = (100, 200, 300)\n",
        "\n",
        "# Print the tuple\n",
        "print(\"Tuple:\", my_tuple)\n"
      ],
      "metadata": {
        "colab": {
          "base_uri": "https://localhost:8080/"
        },
        "id": "J3V9TbU7Rk9F",
        "outputId": "bb579194-4b60-47c3-e1e6-c50d168b4257"
      },
      "execution_count": 11,
      "outputs": [
        {
          "output_type": "stream",
          "name": "stdout",
          "text": [
            "Tuple: (100, 200, 300)\n"
          ]
        }
      ]
    },
    {
      "cell_type": "markdown",
      "source": [
        "12.Write a code to access the second-to-last element of the tuple ('red', 'green', 'blue', 'yellow')."
      ],
      "metadata": {
        "id": "qnXvIEA9RrTK"
      }
    },
    {
      "cell_type": "code",
      "source": [
        "# Define the tuple\n",
        "colors = ('red', 'green', 'blue', 'yellow')\n",
        "\n",
        "# Access the second-to-last element\n",
        "second_to_last = colors[-2]\n",
        "\n",
        "# Print the second-to-last element\n",
        "print(\"Second-to-last element:\", second_to_last)\n"
      ],
      "metadata": {
        "colab": {
          "base_uri": "https://localhost:8080/"
        },
        "id": "lqGu102oRyr7",
        "outputId": "6b6e0bdb-6636-4945-9f92-4ca97df14181"
      },
      "execution_count": 12,
      "outputs": [
        {
          "output_type": "stream",
          "name": "stdout",
          "text": [
            "Second-to-last element: blue\n"
          ]
        }
      ]
    },
    {
      "cell_type": "markdown",
      "source": [
        "13.Write a code to find the minimum number in the tuple (10, 20, 5, 15)."
      ],
      "metadata": {
        "id": "581gsqFlR021"
      }
    },
    {
      "cell_type": "code",
      "source": [
        "# Define the tuple\n",
        "numbers = (10, 20, 5, 15)\n",
        "\n",
        "# Find the minimum number\n",
        "min_number = min(numbers)\n",
        "\n",
        "# Print the minimum number\n",
        "print(\"Minimum number:\", min_number)\n"
      ],
      "metadata": {
        "colab": {
          "base_uri": "https://localhost:8080/"
        },
        "id": "ZMPWDAHdR4Xd",
        "outputId": "31a14b5d-b397-47f0-b7de-6aadb559ec47"
      },
      "execution_count": 13,
      "outputs": [
        {
          "output_type": "stream",
          "name": "stdout",
          "text": [
            "Minimum number: 5\n"
          ]
        }
      ]
    },
    {
      "cell_type": "markdown",
      "source": [
        "14.Write a code to find the index of the element \"cat\" in the tuple ('dog', 'cat', 'rabbit')."
      ],
      "metadata": {
        "id": "0NvGycTHR9E2"
      }
    },
    {
      "cell_type": "code",
      "source": [
        "# Define the tuple\n",
        "animals = ('dog', 'cat', 'rabbit')\n",
        "\n",
        "# Find the index of the element \"cat\"\n",
        "index_of_cat = animals.index('cat')\n",
        "\n",
        "# Print the index\n",
        "print(\"Index of 'cat':\", index_of_cat)\n"
      ],
      "metadata": {
        "colab": {
          "base_uri": "https://localhost:8080/"
        },
        "id": "GvbPdwkxSA-x",
        "outputId": "906a406a-9bc6-4ac6-c7bd-5d25c657de81"
      },
      "execution_count": 14,
      "outputs": [
        {
          "output_type": "stream",
          "name": "stdout",
          "text": [
            "Index of 'cat': 1\n"
          ]
        }
      ]
    },
    {
      "cell_type": "markdown",
      "source": [
        "15.Write a code to create a tuple containing three different fruits and check if \"kiwi\" is in it."
      ],
      "metadata": {
        "id": "jCGwzBtMSGTz"
      }
    },
    {
      "cell_type": "code",
      "source": [
        "# Create the tuple with three different fruits\n",
        "fruits = ('apple', 'banana', 'cherry')\n",
        "\n",
        "# Check if \"kiwi\" is in the tuple\n",
        "if 'kiwi' in fruits:\n",
        "    print(\"Kiwi is in the tuple.\")\n",
        "else:\n",
        "    print(\"Kiwi is not in the tuple.\")\n"
      ],
      "metadata": {
        "colab": {
          "base_uri": "https://localhost:8080/"
        },
        "id": "wbewsLMdSJFa",
        "outputId": "299ce544-8467-4db0-8a09-d9598de4d49a"
      },
      "execution_count": 15,
      "outputs": [
        {
          "output_type": "stream",
          "name": "stdout",
          "text": [
            "Kiwi is not in the tuple.\n"
          ]
        }
      ]
    },
    {
      "cell_type": "markdown",
      "source": [
        "16.Write a code to create a set with the elements 'a', 'b', 'c' and print it."
      ],
      "metadata": {
        "id": "ro7Kki6qSOKL"
      }
    },
    {
      "cell_type": "code",
      "source": [
        "# Create the set with elements 'a', 'b', and 'c'\n",
        "my_set = {'a', 'b', 'c'}\n",
        "\n",
        "# Print the set\n",
        "print(\"Set:\", my_set)\n"
      ],
      "metadata": {
        "colab": {
          "base_uri": "https://localhost:8080/"
        },
        "id": "5jPK3Fa6SRIS",
        "outputId": "ba4ff366-04d5-44ee-842c-e852d27bee9a"
      },
      "execution_count": 16,
      "outputs": [
        {
          "output_type": "stream",
          "name": "stdout",
          "text": [
            "Set: {'a', 'c', 'b'}\n"
          ]
        }
      ]
    },
    {
      "cell_type": "markdown",
      "source": [
        "17.Write a code to clear all elements from the set {1, 2, 3, 4, 5}."
      ],
      "metadata": {
        "id": "RVre_1_RSWH-"
      }
    },
    {
      "cell_type": "code",
      "source": [
        "# Define the set\n",
        "my_set = {1, 2, 3, 4, 5}\n",
        "\n",
        "# Clear all elements from the set\n",
        "my_set.clear()\n",
        "\n",
        "# Print the cleared set\n",
        "print(\"Cleared set:\", my_set)\n"
      ],
      "metadata": {
        "colab": {
          "base_uri": "https://localhost:8080/"
        },
        "id": "HkZttx_ISYsS",
        "outputId": "87c1f012-b79d-4c5a-a0b8-661279e68f24"
      },
      "execution_count": 17,
      "outputs": [
        {
          "output_type": "stream",
          "name": "stdout",
          "text": [
            "Cleared set: set()\n"
          ]
        }
      ]
    },
    {
      "cell_type": "markdown",
      "source": [
        "18.Write a code to remove the element 4 from the set {1, 2, 3, 4}."
      ],
      "metadata": {
        "id": "x9_UoaV1SdXo"
      }
    },
    {
      "cell_type": "code",
      "source": [
        "# Define the set\n",
        "my_set = {1, 2, 3, 4}\n",
        "\n",
        "# Remove the element 4\n",
        "my_set.remove(4)\n",
        "\n",
        "# Print the updated set\n",
        "print(\"Updated set:\", my_set)\n"
      ],
      "metadata": {
        "colab": {
          "base_uri": "https://localhost:8080/"
        },
        "id": "9M1xozAhSgNU",
        "outputId": "45975253-9307-4168-98ab-72676d329243"
      },
      "execution_count": 18,
      "outputs": [
        {
          "output_type": "stream",
          "name": "stdout",
          "text": [
            "Updated set: {1, 2, 3}\n"
          ]
        }
      ]
    },
    {
      "cell_type": "markdown",
      "source": [
        "19.Write a code to find the union of two sets {1, 2, 3} and {3, 4, 5}."
      ],
      "metadata": {
        "id": "Oqv603_WSmPQ"
      }
    },
    {
      "cell_type": "code",
      "source": [
        "# Define the two sets\n",
        "set1 = {1, 2, 3}\n",
        "set2 = {3, 4, 5}\n",
        "\n",
        "# Find the union of the two sets\n",
        "union_set = set1.union(set2)\n",
        "\n",
        "# Print the result\n",
        "print(\"Union of the sets:\", union_set)\n"
      ],
      "metadata": {
        "colab": {
          "base_uri": "https://localhost:8080/"
        },
        "id": "SeMxekFbSovz",
        "outputId": "3e6482d5-f556-4917-b6c7-520b5da7787a"
      },
      "execution_count": 19,
      "outputs": [
        {
          "output_type": "stream",
          "name": "stdout",
          "text": [
            "Union of the sets: {1, 2, 3, 4, 5}\n"
          ]
        }
      ]
    },
    {
      "cell_type": "markdown",
      "source": [
        "20.Write a code to find the intersection of two sets {1, 2, 3} and {2, 3, 4}."
      ],
      "metadata": {
        "id": "g_5pb9I4Sx_4"
      }
    },
    {
      "cell_type": "code",
      "source": [
        "# Define the two sets\n",
        "set1 = {1, 2, 3}\n",
        "set2 = {2, 3, 4}\n",
        "\n",
        "# Find the intersection of the two sets\n",
        "intersection_set = set1.intersection(set2)\n",
        "\n",
        "# Print the result\n",
        "print(\"Intersection of the sets:\", intersection_set)\n"
      ],
      "metadata": {
        "colab": {
          "base_uri": "https://localhost:8080/"
        },
        "id": "eRk9g4WuS08H",
        "outputId": "e417028e-d3c0-4608-fa98-5c9e523421db"
      },
      "execution_count": 20,
      "outputs": [
        {
          "output_type": "stream",
          "name": "stdout",
          "text": [
            "Intersection of the sets: {2, 3}\n"
          ]
        }
      ]
    },
    {
      "cell_type": "markdown",
      "source": [
        "21.Write a code to create a dictionary with the keys \"name\", \"age\", and \"city\", and print it."
      ],
      "metadata": {
        "id": "ef9vJpjQS67N"
      }
    },
    {
      "cell_type": "code",
      "source": [
        "# Create the dictionary with keys \"name\", \"age\", and \"city\"\n",
        "my_dict = {\n",
        "    \"name\": \"Alice\",\n",
        "    \"age\": 30,\n",
        "    \"city\": \"New York\"\n",
        "}\n",
        "\n",
        "# Print the dictionary\n",
        "print(\"Dictionary:\", my_dict)\n"
      ],
      "metadata": {
        "colab": {
          "base_uri": "https://localhost:8080/"
        },
        "id": "cJthwI_TS_hN",
        "outputId": "3d63d168-d5fc-43aa-96e4-c6feb99c508f"
      },
      "execution_count": 21,
      "outputs": [
        {
          "output_type": "stream",
          "name": "stdout",
          "text": [
            "Dictionary: {'name': 'Alice', 'age': 30, 'city': 'New York'}\n"
          ]
        }
      ]
    },
    {
      "cell_type": "markdown",
      "source": [
        "22.Write a code to add a new key-value pair \"country\": \"USA\" to the dictionary {'name': 'John', 'age': 25}."
      ],
      "metadata": {
        "id": "YQd8Mff8TEcZ"
      }
    },
    {
      "cell_type": "code",
      "source": [
        "# Define the original dictionary\n",
        "my_dict = {'name': 'John', 'age': 25}\n",
        "\n",
        "# Add a new key-value pair\n",
        "my_dict[\"country\"] = \"USA\"\n",
        "\n",
        "# Print the updated dictionary\n",
        "print(\"Updated Dictionary:\", my_dict)\n"
      ],
      "metadata": {
        "colab": {
          "base_uri": "https://localhost:8080/"
        },
        "id": "ltP6PfHHTNK1",
        "outputId": "536e7aad-9e19-4c37-822b-59698aaeafa5"
      },
      "execution_count": 22,
      "outputs": [
        {
          "output_type": "stream",
          "name": "stdout",
          "text": [
            "Updated Dictionary: {'name': 'John', 'age': 25, 'country': 'USA'}\n"
          ]
        }
      ]
    },
    {
      "cell_type": "markdown",
      "source": [
        "23.Write a code to access the value associated with the key \"name\" in the dictionary {'name': 'Alice', 'age': 30}."
      ],
      "metadata": {
        "id": "8eLsqP62TRWJ"
      }
    },
    {
      "cell_type": "code",
      "source": [
        "# Define the dictionary\n",
        "person = {'name': 'Alice', 'age': 30}\n",
        "\n",
        "# Access the value associated with the key \"name\"\n",
        "name_value = person[\"name\"]\n",
        "\n",
        "# Print the value\n",
        "print(\"Value associated with 'name':\", name_value)\n"
      ],
      "metadata": {
        "colab": {
          "base_uri": "https://localhost:8080/"
        },
        "id": "GBJSyYeFTVGR",
        "outputId": "f92f78d2-8513-41cc-d864-0551296f3f4a"
      },
      "execution_count": 23,
      "outputs": [
        {
          "output_type": "stream",
          "name": "stdout",
          "text": [
            "Value associated with 'name': Alice\n"
          ]
        }
      ]
    },
    {
      "cell_type": "markdown",
      "source": [
        "24.Write a code to remove the key \"age\" from the dictionary {'name': 'Bob', 'age': 22, 'city': 'New York'}."
      ],
      "metadata": {
        "id": "H_wwG9nXTY9Q"
      }
    },
    {
      "cell_type": "code",
      "source": [
        "# Define the dictionary\n",
        "person = {'name': 'Bob', 'age': 22, 'city': 'New York'}\n",
        "\n",
        "# Remove the key \"age\"\n",
        "del person[\"age\"]\n",
        "\n",
        "# Print the updated dictionary\n",
        "print(\"Updated dictionary:\", person)\n"
      ],
      "metadata": {
        "colab": {
          "base_uri": "https://localhost:8080/"
        },
        "id": "hGmRTvACTb2V",
        "outputId": "9fea94e8-c6da-4522-fc74-86ffd3e0757e"
      },
      "execution_count": 24,
      "outputs": [
        {
          "output_type": "stream",
          "name": "stdout",
          "text": [
            "Updated dictionary: {'name': 'Bob', 'city': 'New York'}\n"
          ]
        }
      ]
    },
    {
      "cell_type": "markdown",
      "source": [
        "25.Write a code to check if the key \"city\" exists in the dictionary {'name': 'Alice', 'city': 'Paris'}."
      ],
      "metadata": {
        "id": "AMexHKRaTg3n"
      }
    },
    {
      "cell_type": "code",
      "source": [
        "# Define the dictionary\n",
        "person = {'name': 'Alice', 'city': 'Paris'}\n",
        "\n",
        "# Check if the key \"city\" exists in the dictionary\n",
        "if \"city\" in person:\n",
        "    print(\"The key 'city' exists in the dictionary.\")\n",
        "else:\n",
        "    print(\"The key 'city' does not exist in the dictionary.\")\n"
      ],
      "metadata": {
        "colab": {
          "base_uri": "https://localhost:8080/"
        },
        "id": "g5KrlPUxTkOB",
        "outputId": "911fd6fb-801f-409a-da23-6ea1cda80402"
      },
      "execution_count": 25,
      "outputs": [
        {
          "output_type": "stream",
          "name": "stdout",
          "text": [
            "The key 'city' exists in the dictionary.\n"
          ]
        }
      ]
    },
    {
      "cell_type": "markdown",
      "source": [
        "26.Write a code to create a list, a tuple, and a dictionary, and print them all."
      ],
      "metadata": {
        "id": "kBzVtn3sTpli"
      }
    },
    {
      "cell_type": "code",
      "source": [
        "# Create a list\n",
        "my_list = [1, 2, 3, 4, 5]\n",
        "\n",
        "# Create a tuple\n",
        "my_tuple = ('apple', 'banana', 'cherry')\n",
        "\n",
        "# Create a dictionary\n",
        "my_dict = {'name': 'John', 'age': 30, 'city': 'New York'}\n",
        "\n",
        "# Print the list, tuple, and dictionary\n",
        "print(\"List:\", my_list)\n",
        "print(\"Tuple:\", my_tuple)\n",
        "print(\"Dictionary:\", my_dict)\n"
      ],
      "metadata": {
        "colab": {
          "base_uri": "https://localhost:8080/"
        },
        "id": "ALut60HjTtRX",
        "outputId": "6864f6ec-0a45-46c1-915c-e2dc6e9227e5"
      },
      "execution_count": 26,
      "outputs": [
        {
          "output_type": "stream",
          "name": "stdout",
          "text": [
            "List: [1, 2, 3, 4, 5]\n",
            "Tuple: ('apple', 'banana', 'cherry')\n",
            "Dictionary: {'name': 'John', 'age': 30, 'city': 'New York'}\n"
          ]
        }
      ]
    },
    {
      "cell_type": "markdown",
      "source": [
        "27. Write a code to create a list of 5 random numbers between 1 and 100, sort it in ascending order, and print the\n",
        "result.(replaced)"
      ],
      "metadata": {
        "id": "yPvln2B1TyMA"
      }
    },
    {
      "cell_type": "code",
      "source": [
        "import random\n",
        "\n",
        "# Create a list of 5 random numbers between 1 and 100\n",
        "random_numbers = [random.randint(1, 100) for _ in range(5)]\n",
        "\n",
        "# Sort the list in ascending order\n",
        "random_numbers.sort()\n",
        "\n",
        "# Print the sorted list\n",
        "print(\"Sorted list of random numbers:\", random_numbers)\n"
      ],
      "metadata": {
        "colab": {
          "base_uri": "https://localhost:8080/"
        },
        "id": "e1YNgYGsT1ZJ",
        "outputId": "21ce379b-236e-440c-96ac-b191de9e69fd"
      },
      "execution_count": 27,
      "outputs": [
        {
          "output_type": "stream",
          "name": "stdout",
          "text": [
            "Sorted list of random numbers: [9, 16, 50, 58, 78]\n"
          ]
        }
      ]
    },
    {
      "cell_type": "markdown",
      "source": [
        "28.Write a code to create a list with strings and print the element at the third index.\n",
        "\n"
      ],
      "metadata": {
        "id": "hzAcO2doT6Uk"
      }
    },
    {
      "cell_type": "code",
      "source": [
        "# Create a list with strings\n",
        "my_list = ['apple', 'banana', 'cherry', 'date', 'elderberry']\n",
        "\n",
        "# Print the element at the third index (index 3)\n",
        "print(\"Element at the third index:\", my_list[3])\n"
      ],
      "metadata": {
        "colab": {
          "base_uri": "https://localhost:8080/"
        },
        "id": "6RKs3byyT9gP",
        "outputId": "3d5d75f0-dbe8-4ad9-b6ee-08d54049525a"
      },
      "execution_count": 28,
      "outputs": [
        {
          "output_type": "stream",
          "name": "stdout",
          "text": [
            "Element at the third index: date\n"
          ]
        }
      ]
    },
    {
      "cell_type": "markdown",
      "source": [
        "29.Write a code to combine two dictionaries into one and print the result."
      ],
      "metadata": {
        "id": "tnMGaUEQUDh8"
      }
    },
    {
      "cell_type": "code",
      "source": [
        "# Define the two dictionaries\n",
        "dict1 = {'name': 'Alice', 'age': 25}\n",
        "dict2 = {'city': 'New York', 'job': 'Engineer'}\n",
        "\n",
        "# Combine the two dictionaries\n",
        "combined_dict = {**dict1, **dict2}\n",
        "\n",
        "# Print the combined dictionary\n",
        "print(\"Combined dictionary:\", combined_dict)\n"
      ],
      "metadata": {
        "colab": {
          "base_uri": "https://localhost:8080/"
        },
        "id": "WVfqSCYDUGWX",
        "outputId": "dda4fe15-b274-4994-b887-141619d0f7f4"
      },
      "execution_count": 29,
      "outputs": [
        {
          "output_type": "stream",
          "name": "stdout",
          "text": [
            "Combined dictionary: {'name': 'Alice', 'age': 25, 'city': 'New York', 'job': 'Engineer'}\n"
          ]
        }
      ]
    },
    {
      "cell_type": "markdown",
      "source": [
        "30.Write a code to convert a list of strings into a set."
      ],
      "metadata": {
        "id": "02PuT0dPULpP"
      }
    },
    {
      "cell_type": "code",
      "source": [
        "# Define a list of strings\n",
        "my_list = ['apple', 'banana', 'cherry', 'apple', 'banana']\n",
        "\n",
        "# Convert the list to a set\n",
        "my_set = set(my_list)\n",
        "\n",
        "# Print the resulting set\n",
        "print(\"Set:\", my_set)\n"
      ],
      "metadata": {
        "colab": {
          "base_uri": "https://localhost:8080/"
        },
        "id": "roFYJqtZUOzh",
        "outputId": "dd67a5d8-0184-4d11-e149-8a9adfb2ae6e"
      },
      "execution_count": 30,
      "outputs": [
        {
          "output_type": "stream",
          "name": "stdout",
          "text": [
            "Set: {'apple', 'banana', 'cherry'}\n"
          ]
        }
      ]
    },
    {
      "cell_type": "code",
      "source": [],
      "metadata": {
        "id": "30_-xL7FUUKu"
      },
      "execution_count": null,
      "outputs": []
    }
  ]
}